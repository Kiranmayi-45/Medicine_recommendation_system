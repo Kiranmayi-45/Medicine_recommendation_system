{
 "cells": [
  {
   "cell_type": "markdown",
   "id": "c755214a",
   "metadata": {},
   "source": [
    "# Title: Personalized Medical Recommendation System with Machine Learning\n",
    "\n",
    "# Description:\n",
    "\n",
    "Welcome to our cutting-edge Personalized Medical Recommendation System, a powerful platform designed to assist users in understanding and managing their health. Leveraging the capabilities of machine learning, our system analyzes user-input symptoms to predict potential diseases accurately."
   ]
  },
  {
   "cell_type": "markdown",
   "id": "db119e1e",
   "metadata": {},
   "source": [
    "# load dataset & tools"
   ]
  },
  {
   "cell_type": "code",
   "execution_count": 1,
   "id": "4e4766bf",
   "metadata": {},
   "outputs": [],
   "source": [
    "import  pandas as pd"
   ]
  },
  {
   "cell_type": "code",
   "execution_count": 2,
   "id": "56ce4778",
   "metadata": {},
   "outputs": [],
   "source": [
    "\n",
    "dataset = pd.read_csv('Training_modified.csv')"
   ]
  },
  {
   "cell_type": "code",
   "execution_count": 4,
   "id": "5f18d6d2",
   "metadata": {},
   "outputs": [],
   "source": [
    "dataset\n",
    "dataset = dataset.dropna()"
   ]
  },
  {
   "cell_type": "code",
   "execution_count": 11,
   "id": "f49b2b12",
   "metadata": {},
   "outputs": [],
   "source": [
    "# vals = dataset.values.flatten()\n",
    "import pandas as pd\n",
    "\n",
    "# Drop rows with any missing values\n",
    "X_train = pd.DataFrame(X_train).dropna()\n",
    "y_train = y_train[X_train.index]  # Also adjust y_train accordingly\n",
    "\n",
    "X_test = pd.DataFrame(X_test).dropna()\n",
    "y_test = y_test[X_test.index]\n"
   ]
  },
  {
   "cell_type": "code",
   "execution_count": 5,
   "id": "a49049bd",
   "metadata": {},
   "outputs": [
    {
     "data": {
      "text/plain": [
       "(4878, 127)"
      ]
     },
     "execution_count": 5,
     "metadata": {},
     "output_type": "execute_result"
    }
   ],
   "source": [
    "dataset.shape"
   ]
  },
  {
   "cell_type": "markdown",
   "id": "2db916ab",
   "metadata": {},
   "source": [
    "# train test split"
   ]
  },
  {
   "cell_type": "code",
   "execution_count": 6,
   "id": "b1e9c647",
   "metadata": {},
   "outputs": [],
   "source": [
    "from sklearn.model_selection import train_test_split\n",
    "from sklearn.preprocessing import LabelEncoder"
   ]
  },
  {
   "cell_type": "code",
   "execution_count": 7,
   "id": "4cb2e972",
   "metadata": {},
   "outputs": [],
   "source": [
    "import pandas as pd\n",
    "from sklearn.model_selection import train_test_split\n",
    "from sklearn.preprocessing import LabelEncoder\n",
    "from sklearn.impute import SimpleImputer\n",
    "\n",
    "# Separate features and target\n",
    "X = dataset.drop('prognosis', axis=1)\n",
    "y = dataset['prognosis']\n",
    "\n",
    "# Encode target variable\n",
    "le = LabelEncoder()\n",
    "y_encoded = le.fit_transform(y)\n",
    "\n",
    "# Split dataset\n",
    "X_train, X_test, y_train, y_test = train_test_split(X, y_encoded, test_size=0.4, random_state=42)\n",
    "\n",
    "# Handle missing values using mean imputation\n",
    "imputer = SimpleImputer(strategy='mean')\n",
    "X_train = imputer.fit_transform(X_train)\n",
    "X_test = imputer.transform(X_test)\n"
   ]
  },
  {
   "cell_type": "markdown",
   "id": "1c1a9ed2",
   "metadata": {},
   "source": [
    "# Training top models"
   ]
  },
  {
   "cell_type": "code",
   "execution_count": 8,
   "id": "5b9c4a9e",
   "metadata": {
    "scrolled": true
   },
   "outputs": [
    {
     "name": "stdout",
     "output_type": "stream",
     "text": [
      "SVC Accuracy: 0.9902663934426229\n",
      "SVC Confusion Matrix:\n",
      "[[48,  0,  0, ...,  0,  0,  0],\n",
      " [ 0, 50,  0, ...,  0,  0,  0],\n",
      " [ 0,  0, 47, ...,  0,  0,  0],\n",
      " ...,\n",
      " [ 0,  0,  0, ..., 57,  0,  0],\n",
      " [ 0,  0,  0, ...,  0, 54,  0],\n",
      " [ 0,  0,  0, ...,  0,  0, 51]]\n",
      "\n",
      "========================================\n",
      "\n",
      "RandomForest Accuracy: 0.9877049180327869\n",
      "RandomForest Confusion Matrix:\n",
      "[[48,  0,  0, ...,  0,  0,  0],\n",
      " [ 0, 50,  0, ...,  0,  0,  0],\n",
      " [ 0,  0, 47, ...,  0,  0,  0],\n",
      " ...,\n",
      " [ 0,  0,  0, ..., 56,  0,  0],\n",
      " [ 0,  0,  0, ...,  0, 54,  0],\n",
      " [ 0,  0,  0, ...,  0,  0, 51]]\n",
      "\n",
      "========================================\n",
      "\n",
      "GradientBoosting Accuracy: 0.9902663934426229\n",
      "GradientBoosting Confusion Matrix:\n",
      "[[48,  0,  0, ...,  0,  0,  0],\n",
      " [ 0, 49,  0, ...,  0,  0,  0],\n",
      " [ 0,  0, 47, ...,  0,  0,  0],\n",
      " ...,\n",
      " [ 0,  0,  0, ..., 57,  0,  0],\n",
      " [ 0,  0,  0, ...,  0, 54,  0],\n",
      " [ 0,  0,  0, ...,  0,  0, 51]]\n",
      "\n",
      "========================================\n",
      "\n",
      "KNeighbors Accuracy: 0.9492827868852459\n",
      "KNeighbors Confusion Matrix:\n",
      "[[43,  0,  0, ...,  0,  0,  0],\n",
      " [ 0, 47,  1, ...,  0,  0,  0],\n",
      " [ 0,  0, 45, ...,  0,  0,  0],\n",
      " ...,\n",
      " [ 0,  0,  0, ..., 50,  0,  0],\n",
      " [ 0,  0,  0, ...,  0, 54,  0],\n",
      " [ 0,  0,  0, ...,  0,  0, 49]]\n",
      "\n",
      "========================================\n",
      "\n"
     ]
    },
    {
     "ename": "ValueError",
     "evalue": "Negative values in data passed to MultinomialNB (input X)",
     "output_type": "error",
     "traceback": [
      "\u001b[1;31m---------------------------------------------------------------------------\u001b[0m",
      "\u001b[1;31mValueError\u001b[0m                                Traceback (most recent call last)",
      "Cell \u001b[1;32mIn[8], line 23\u001b[0m\n\u001b[0;32m     20\u001b[0m \u001b[38;5;66;03m# Loop through the models, train, test, and print results\u001b[39;00m\n\u001b[0;32m     21\u001b[0m \u001b[38;5;28;01mfor\u001b[39;00m model_name, model \u001b[38;5;129;01min\u001b[39;00m models\u001b[38;5;241m.\u001b[39mitems():\n\u001b[0;32m     22\u001b[0m     \u001b[38;5;66;03m# Train the model\u001b[39;00m\n\u001b[1;32m---> 23\u001b[0m     model\u001b[38;5;241m.\u001b[39mfit(X_train, y_train)\n\u001b[0;32m     25\u001b[0m     \u001b[38;5;66;03m# Test the model\u001b[39;00m\n\u001b[0;32m     26\u001b[0m     predictions \u001b[38;5;241m=\u001b[39m model\u001b[38;5;241m.\u001b[39mpredict(X_test)\n",
      "File \u001b[1;32m~\\desktop\\ML_sample\\env\\Lib\\site-packages\\sklearn\\base.py:1473\u001b[0m, in \u001b[0;36m_fit_context.<locals>.decorator.<locals>.wrapper\u001b[1;34m(estimator, *args, **kwargs)\u001b[0m\n\u001b[0;32m   1466\u001b[0m     estimator\u001b[38;5;241m.\u001b[39m_validate_params()\n\u001b[0;32m   1468\u001b[0m \u001b[38;5;28;01mwith\u001b[39;00m config_context(\n\u001b[0;32m   1469\u001b[0m     skip_parameter_validation\u001b[38;5;241m=\u001b[39m(\n\u001b[0;32m   1470\u001b[0m         prefer_skip_nested_validation \u001b[38;5;129;01mor\u001b[39;00m global_skip_validation\n\u001b[0;32m   1471\u001b[0m     )\n\u001b[0;32m   1472\u001b[0m ):\n\u001b[1;32m-> 1473\u001b[0m     \u001b[38;5;28;01mreturn\u001b[39;00m fit_method(estimator, \u001b[38;5;241m*\u001b[39margs, \u001b[38;5;241m*\u001b[39m\u001b[38;5;241m*\u001b[39mkwargs)\n",
      "File \u001b[1;32m~\\desktop\\ML_sample\\env\\Lib\\site-packages\\sklearn\\naive_bayes.py:759\u001b[0m, in \u001b[0;36m_BaseDiscreteNB.fit\u001b[1;34m(self, X, y, sample_weight)\u001b[0m\n\u001b[0;32m    757\u001b[0m n_classes \u001b[38;5;241m=\u001b[39m Y\u001b[38;5;241m.\u001b[39mshape[\u001b[38;5;241m1\u001b[39m]\n\u001b[0;32m    758\u001b[0m \u001b[38;5;28mself\u001b[39m\u001b[38;5;241m.\u001b[39m_init_counters(n_classes, n_features)\n\u001b[1;32m--> 759\u001b[0m \u001b[38;5;28mself\u001b[39m\u001b[38;5;241m.\u001b[39m_count(X, Y)\n\u001b[0;32m    760\u001b[0m alpha \u001b[38;5;241m=\u001b[39m \u001b[38;5;28mself\u001b[39m\u001b[38;5;241m.\u001b[39m_check_alpha()\n\u001b[0;32m    761\u001b[0m \u001b[38;5;28mself\u001b[39m\u001b[38;5;241m.\u001b[39m_update_feature_log_prob(alpha)\n",
      "File \u001b[1;32m~\\desktop\\ML_sample\\env\\Lib\\site-packages\\sklearn\\naive_bayes.py:881\u001b[0m, in \u001b[0;36mMultinomialNB._count\u001b[1;34m(self, X, Y)\u001b[0m\n\u001b[0;32m    879\u001b[0m \u001b[38;5;28;01mdef\u001b[39;00m \u001b[38;5;21m_count\u001b[39m(\u001b[38;5;28mself\u001b[39m, X, Y):\n\u001b[0;32m    880\u001b[0m \u001b[38;5;250m    \u001b[39m\u001b[38;5;124;03m\"\"\"Count and smooth feature occurrences.\"\"\"\u001b[39;00m\n\u001b[1;32m--> 881\u001b[0m     check_non_negative(X, \u001b[38;5;124m\"\u001b[39m\u001b[38;5;124mMultinomialNB (input X)\u001b[39m\u001b[38;5;124m\"\u001b[39m)\n\u001b[0;32m    882\u001b[0m     \u001b[38;5;28mself\u001b[39m\u001b[38;5;241m.\u001b[39mfeature_count_ \u001b[38;5;241m+\u001b[39m\u001b[38;5;241m=\u001b[39m safe_sparse_dot(Y\u001b[38;5;241m.\u001b[39mT, X)\n\u001b[0;32m    883\u001b[0m     \u001b[38;5;28mself\u001b[39m\u001b[38;5;241m.\u001b[39mclass_count_ \u001b[38;5;241m+\u001b[39m\u001b[38;5;241m=\u001b[39m Y\u001b[38;5;241m.\u001b[39msum(axis\u001b[38;5;241m=\u001b[39m\u001b[38;5;241m0\u001b[39m)\n",
      "File \u001b[1;32m~\\desktop\\ML_sample\\env\\Lib\\site-packages\\sklearn\\utils\\validation.py:1689\u001b[0m, in \u001b[0;36mcheck_non_negative\u001b[1;34m(X, whom)\u001b[0m\n\u001b[0;32m   1686\u001b[0m     X_min \u001b[38;5;241m=\u001b[39m xp\u001b[38;5;241m.\u001b[39mmin(X)\n\u001b[0;32m   1688\u001b[0m \u001b[38;5;28;01mif\u001b[39;00m X_min \u001b[38;5;241m<\u001b[39m \u001b[38;5;241m0\u001b[39m:\n\u001b[1;32m-> 1689\u001b[0m     \u001b[38;5;28;01mraise\u001b[39;00m \u001b[38;5;167;01mValueError\u001b[39;00m(\u001b[38;5;124m\"\u001b[39m\u001b[38;5;124mNegative values in data passed to \u001b[39m\u001b[38;5;132;01m%s\u001b[39;00m\u001b[38;5;124m\"\u001b[39m \u001b[38;5;241m%\u001b[39m whom)\n",
      "\u001b[1;31mValueError\u001b[0m: Negative values in data passed to MultinomialNB (input X)"
     ]
    }
   ],
   "source": [
    "from sklearn.datasets import make_classification\n",
    "from sklearn.model_selection import train_test_split\n",
    "from sklearn.svm import SVC\n",
    "from sklearn.ensemble import RandomForestClassifier, GradientBoostingClassifier\n",
    "from sklearn.neighbors import KNeighborsClassifier\n",
    "from sklearn.naive_bayes import MultinomialNB\n",
    "from sklearn.metrics import accuracy_score, confusion_matrix\n",
    "import numpy as np\n",
    "\n",
    "\n",
    "# Create a dictionary to store models\n",
    "models = {\n",
    "    'SVC': SVC(kernel='linear'),\n",
    "    'RandomForest': RandomForestClassifier(n_estimators=100, random_state=42),\n",
    "    'GradientBoosting': GradientBoostingClassifier(n_estimators=100, random_state=42),\n",
    "    'KNeighbors': KNeighborsClassifier(n_neighbors=5),\n",
    "    'MultinomialNB': MultinomialNB()\n",
    "}\n",
    "\n",
    "# Loop through the models, train, test, and print results\n",
    "for model_name, model in models.items():\n",
    "    # Train the model\n",
    "    model.fit(X_train, y_train)\n",
    "\n",
    "    # Test the model\n",
    "    predictions = model.predict(X_test)\n",
    "\n",
    "    # Calculate accuracy\n",
    "    accuracy = accuracy_score(y_test, predictions)\n",
    "    print(f\"{model_name} Accuracy: {accuracy}\")\n",
    "\n",
    "    # Calculate confusion matrix\n",
    "    cm = confusion_matrix(y_test, predictions)\n",
    "    print(f\"{model_name} Confusion Matrix:\")\n",
    "    print(np.array2string(cm, separator=', '))\n",
    "\n",
    "    print(\"\\n\" + \"=\"*40 + \"\\n\")\n"
   ]
  },
  {
   "cell_type": "markdown",
   "id": "36cee3c8",
   "metadata": {},
   "source": [
    "# single prediction"
   ]
  },
  {
   "cell_type": "code",
   "execution_count": 9,
   "id": "a74ad639",
   "metadata": {},
   "outputs": [
    {
     "data": {
      "text/plain": [
       "0.9877049180327869"
      ]
     },
     "execution_count": 9,
     "metadata": {},
     "output_type": "execute_result"
    }
   ],
   "source": [
    "# selecting svc\n",
    "svc = RandomForestClassifier(n_estimators=100, random_state=42)\n",
    "svc.fit(X_train,y_train)\n",
    "ypred = svc.predict(X_test)\n",
    "accuracy_score(y_test,ypred)"
   ]
  },
  {
   "cell_type": "code",
   "execution_count": 10,
   "id": "fdd98daa",
   "metadata": {},
   "outputs": [],
   "source": [
    "# save svc\n",
    "import pickle\n",
    "pickle.dump(svc,open('svc.pkl','wb'))"
   ]
  },
  {
   "cell_type": "code",
   "execution_count": 11,
   "id": "4dd13145",
   "metadata": {},
   "outputs": [],
   "source": [
    "# load model\n",
    "svc = pickle.load(open('svc.pkl','rb'))"
   ]
  },
  {
   "cell_type": "code",
   "execution_count": 12,
   "id": "8bf40f9d",
   "metadata": {},
   "outputs": [
    {
     "name": "stdout",
     "output_type": "stream",
     "text": [
      "Predicted Disease: 7\n",
      "Actual Disease: 7\n"
     ]
    }
   ],
   "source": [
    "X_test = pd.DataFrame(X_test)  # Convert back to DataFrame after imputation\n",
    "print(\"Predicted Disease:\", svc.predict(X_test.iloc[0].values.reshape(1, -1))[0])\n",
    "print(\"Actual Disease:\", y_test[0])\n"
   ]
  },
  {
   "cell_type": "code",
   "execution_count": 13,
   "id": "786bfd1a",
   "metadata": {},
   "outputs": [
    {
     "name": "stdout",
     "output_type": "stream",
     "text": [
      "predicted disease : [33]\n",
      "Actual Disease : 33\n"
     ]
    }
   ],
   "source": [
    "# test 2:\n",
    "print(\"predicted disease :\",svc.predict(X_test.iloc[100].values.reshape(1,-1)))\n",
    "print(\"Actual Disease :\", y_test[100])"
   ]
  },
  {
   "cell_type": "code",
   "execution_count": 19,
   "id": "b08ffc89-625a-4848-9829-e96585a31c3a",
   "metadata": {},
   "outputs": [
    {
     "name": "stdout",
     "output_type": "stream",
     "text": [
      "Number of features model expects: 126\n",
      "\n",
      "List of symptoms (features) used during training:\n",
      "1. itching\n",
      "2. skin_rash\n",
      "3. nodal_skin_eruptions\n",
      "4. continuous_sneezing\n",
      "5. shivering\n",
      "6. chills\n",
      "7. joint_pain\n",
      "8. stomach_pain\n",
      "9. acidity\n",
      "10. ulcers_on_tongue\n",
      "11. muscle_wasting\n",
      "12. vomiting\n",
      "13. burning_micturition\n",
      "14. spotting_ urination\n",
      "15. fatigue\n",
      "16. weight_gain\n",
      "17. anxiety\n",
      "18. cold_hands_and_feets\n",
      "19. mood_swings\n",
      "20. weight_loss\n",
      "21. restlessness\n",
      "22. lethargy\n",
      "23. patches_in_throat\n",
      "24. irregular_sugar_level\n",
      "25. cough\n",
      "26. high_fever\n",
      "27. sunken_eyes\n",
      "28. breathlessness\n",
      "29. sweating\n",
      "30. dehydration\n",
      "31. indigestion\n",
      "32. headache\n",
      "33. yellowish_skin\n",
      "34. dark_urine\n",
      "35. nausea\n",
      "36. loss_of_appetite\n",
      "37. pain_behind_the_eyes\n",
      "38. back_pain\n",
      "39. constipation\n",
      "40. abdominal_pain\n",
      "41. diarrhoea\n",
      "42. mild_fever\n",
      "43. yellow_urine\n",
      "44. yellowing_of_eyes\n",
      "45. acute_liver_failure\n",
      "46. fluid_overload\n",
      "47. swelling_of_stomach\n",
      "48. swelled_lymph_nodes\n",
      "49. malaise\n",
      "50. blurred_and_distorted_vision\n",
      "51. phlegm\n",
      "52. throat_irritation\n",
      "53. redness_of_eyes\n",
      "54. sinus_pressure\n",
      "55. runny_nose\n",
      "56. congestion\n",
      "57. chest_pain\n",
      "58. weakness_in_limbs\n",
      "59. fast_heart_rate\n",
      "60. pain_during_bowel_movements\n",
      "61. pain_in_anal_region\n",
      "62. bloody_stool\n",
      "63. irritation_in_anus\n",
      "64. neck_pain\n",
      "65. dizziness\n",
      "66. cramps\n",
      "67. bruising\n",
      "68. obesity\n",
      "69. swollen_legs\n",
      "70. swollen_blood_vessels\n",
      "71. puffy_face_and_eyes\n",
      "72. enlarged_thyroid\n",
      "73. swollen_extremeties\n",
      "74. excessive_hunger\n",
      "75. extra_marital_contacts\n",
      "76. drying_and_tingling_lips\n",
      "77. slurred_speech\n",
      "78. knee_pain\n",
      "79. hip_joint_pain\n",
      "80. muscle_weakness\n",
      "81. stiff_neck\n",
      "82. swelling_joints\n",
      "83. movement_stiffness\n",
      "84. spinning_movements\n",
      "85. loss_of_balance\n",
      "86. unsteadiness\n",
      "87. weakness_of_one_body_side\n",
      "88. loss_of_smell\n",
      "89. bladder_discomfort\n",
      "90. foul_smell_of urine\n",
      "91. continuous_feel_of_urine\n",
      "92. passage_of_gases\n",
      "93. internal_itching\n",
      "94. toxic_look_(typhos)\n",
      "95. irritability\n",
      "96. muscle_pain\n",
      "97. altered_sensorium\n",
      "98. red_spots_over_body\n",
      "99. belly_pain\n",
      "100. abnormal_menstruation\n",
      "101. dischromic _patches\n",
      "102. watering_from_eyes\n",
      "103. increased_appetite\n",
      "104. polyuria\n",
      "105. family_history\n",
      "106. mucoid_sputum\n",
      "107. rusty_sputum\n",
      "108. lack_of_concentration\n",
      "109. visual_disturbances\n",
      "110. receiving_blood_transfusion\n",
      "111. receiving_unsterile_injections\n",
      "112. coma\n",
      "113. stomach_bleeding\n",
      "114. distention_of_abdomen\n",
      "115. history_of_alcohol_consumption\n",
      "116. fluid_overload.1\n",
      "117. blood_in_sputum\n",
      "118. prominent_veins_on_calf\n",
      "119. palpitations\n",
      "120. painful_walking\n",
      "121. pus_filled_pimples\n",
      "122. scurring\n",
      "123. skin_peeling\n",
      "124. inflammatory_nails\n",
      "125. blister\n",
      "126. red_sore_around_nose\n"
     ]
    }
   ],
   "source": [
    "# Check the number of features the model expects\n",
    "print(\"Number of features model expects:\", svc.n_features_in_)\n",
    "\n",
    "# Now, if you have your training data (or any DataFrame you trained with), print its columns:\n",
    "print(\"\\nList of symptoms (features) used during training:\")\n",
    "\n",
    "for idx, col in enumerate(X.columns):\n",
    "    print(f\"{idx+1}. {col}\")\n"
   ]
  },
  {
   "cell_type": "markdown",
   "id": "9ce6884a",
   "metadata": {},
   "source": [
    "# Recommendation System and Prediction"
   ]
  },
  {
   "cell_type": "markdown",
   "id": "f53f59b8",
   "metadata": {},
   "source": [
    "# load database and use logic for recommendations"
   ]
  },
  {
   "cell_type": "code",
   "execution_count": 14,
   "id": "767ed813",
   "metadata": {},
   "outputs": [],
   "source": [
    "sym_des = pd.read_csv(\"symtoms_df.csv\")\n",
    "precautions = pd.read_csv(\"precautions_df.csv\")\n",
    "workout = pd.read_csv(\"workout_df.csv\")\n",
    "description = pd.read_csv(\"description.csv\")\n",
    "medications = pd.read_csv('medications.csv')\n",
    "diets = pd.read_csv(\"diets.csv\")"
   ]
  },
  {
   "cell_type": "code",
   "execution_count": 15,
   "id": "6cb123a9",
   "metadata": {},
   "outputs": [],
   "source": [
    "#============================================================\n",
    "# custome and helping functions\n",
    "#==========================helper funtions================\n",
    "def helper(dis):\n",
    "    desc = description[description['Disease'] == predicted_disease]['Description']\n",
    "    desc = \" \".join([w for w in desc])\n",
    "\n",
    "    pre = precautions[precautions['Disease'] == dis][['Precaution_1', 'Precaution_2', 'Precaution_3', 'Precaution_4']]\n",
    "    pre = [col for col in pre.values]\n",
    "\n",
    "    med = medications[medications['Disease'] == dis]['Medication']\n",
    "    med = [med for med in med.values]\n",
    "\n",
    "    die = diets[diets['Disease'] == dis]['Diet']\n",
    "    die = [die for die in die.values]\n",
    "\n",
    "    wrkout = workout[workout['disease'] == dis] ['workout']\n",
    "\n",
    "\n",
    "    return desc,pre,med,die,wrkout\n",
    "\n",
    "symptoms_dict = {'itching': 0, 'skin_rash': 1, 'nodal_skin_eruptions': 2, 'continuous_sneezing': 3, 'shivering': 4, 'chills': 5, 'joint_pain': 6, 'stomach_pain': 7, 'acidity': 8, 'ulcers_on_tongue': 9, 'muscle_wasting': 10, 'vomiting': 11, 'burning_micturition': 12, 'spotting_ urination': 13, 'fatigue': 14, 'weight_gain': 15, 'anxiety': 16, 'cold_hands_and_feets': 17, 'mood_swings': 18, 'weight_loss': 19, 'restlessness': 20, 'lethargy': 21, 'patches_in_throat': 22, 'irregular_sugar_level': 23, 'cough': 24, 'high_fever': 25, 'sunken_eyes': 26, 'breathlessness': 27, 'sweating': 28, 'dehydration': 29, 'indigestion': 30, 'headache': 31, 'yellowish_skin': 32, 'dark_urine': 33, 'nausea': 34, 'loss_of_appetite': 35, 'pain_behind_the_eyes': 36, 'back_pain': 37, 'constipation': 38, 'abdominal_pain': 39, 'diarrhoea': 40, 'mild_fever': 41, 'yellow_urine': 42, 'yellowing_of_eyes': 43, 'acute_liver_failure': 44, 'fluid_overload': 45, 'swelling_of_stomach': 46, 'swelled_lymph_nodes': 47, 'malaise': 48, 'blurred_and_distorted_vision': 49, 'phlegm': 50, 'throat_irritation': 51, 'redness_of_eyes': 52, 'sinus_pressure': 53, 'runny_nose': 54, 'congestion': 55, 'chest_pain': 56, 'weakness_in_limbs': 57, 'fast_heart_rate': 58, 'pain_during_bowel_movements': 59, 'pain_in_anal_region': 60, 'bloody_stool': 61, 'irritation_in_anus': 62, 'neck_pain': 63, 'dizziness': 64, 'cramps': 65, 'bruising': 66, 'obesity': 67, 'swollen_legs': 68, 'swollen_blood_vessels': 69, 'puffy_face_and_eyes': 70, 'enlarged_thyroid': 71, 'brittle_nails': 72, 'swollen_extremeties': 73, 'excessive_hunger': 74, 'extra_marital_contacts': 75, 'drying_and_tingling_lips': 76, 'slurred_speech': 77, 'knee_pain': 78, 'hip_joint_pain': 79, 'muscle_weakness': 80, 'stiff_neck': 81, 'swelling_joints': 82, 'movement_stiffness': 83, 'spinning_movements': 84, 'loss_of_balance': 85, 'unsteadiness': 86, 'weakness_of_one_body_side': 87, 'loss_of_smell': 88, 'bladder_discomfort': 89, 'foul_smell_of urine': 90, 'continuous_feel_of_urine': 91, 'passage_of_gases': 92, 'internal_itching': 93, 'toxic_look_(typhos)': 94, 'depression': 95, 'irritability': 96, 'muscle_pain': 97, 'altered_sensorium': 98, 'red_spots_over_body': 99, 'belly_pain': 100, 'abnormal_menstruation': 101, 'dischromic _patches': 102, 'watering_from_eyes': 103, 'increased_appetite': 104, 'polyuria': 105, 'family_history': 106, 'mucoid_sputum': 107, 'rusty_sputum': 108, 'lack_of_concentration': 109, 'visual_disturbances': 110, 'receiving_blood_transfusion': 111, 'receiving_unsterile_injections': 112, 'coma': 113, 'stomach_bleeding': 114, 'distention_of_abdomen': 115, 'history_of_alcohol_consumption': 116, 'fluid_overload.1': 117, 'blood_in_sputum': 118, 'prominent_veins_on_calf': 119, 'palpitations': 120, 'painful_walking': 121, 'pus_filled_pimples': 122, 'blackheads': 123, 'scurring': 124, 'skin_peeling': 125, 'silver_like_dusting': 126, 'small_dents_in_nails': 127, 'inflammatory_nails': 128, 'blister': 129, 'red_sore_around_nose': 130, 'yellow_crust_ooze': 131}\n",
    "diseases_list = {15: 'Fungal infection', 4: 'Allergy', 16: 'GERD', 9: 'Chronic cholestasis', 14: 'Drug Reaction', 33: 'Peptic ulcer diseae', 1: 'AIDS', 12: 'Diabetes ', 17: 'Gastroenteritis', 6: 'Bronchial Asthma', 23: 'Hypertension ', 30: 'Migraine', 7: 'Cervical spondylosis', 32: 'Paralysis (brain hemorrhage)', 28: 'Jaundice', 29: 'Malaria', 8: 'Chicken pox', 11: 'Dengue', 37: 'Typhoid', 40: 'hepatitis A', 19: 'Hepatitis B', 20: 'Hepatitis C', 21: 'Hepatitis D', 22: 'Hepatitis E', 3: 'Alcoholic hepatitis', 36: 'Tuberculosis', 10: 'Common Cold', 34: 'Pneumonia', 13: 'Dimorphic hemmorhoids(piles)', 18: 'Heart attack', 39: 'Varicose veins', 26: 'Hypothyroidism', 24: 'Hyperthyroidism', 25: 'Hypoglycemia', 31: 'Osteoarthristis', 5: 'Arthritis', 0: '(vertigo) Paroymsal  Positional Vertigo', 2: 'Acne', 38: 'Urinary tract infection', 35: 'Psoriasis', 27: 'Impetigo'}\n",
    "\n",
    "# Model Prediction function\n",
    "def get_predicted_value(patient_symptoms):\n",
    "    input_vector = np.zeros(len(symptoms_dict))\n",
    "    for item in patient_symptoms:\n",
    "        input_vector[symptoms_dict[item]] = 1\n",
    "    return diseases_list[svc.predict([input_vector])[0]]"
   ]
  },
  {
   "cell_type": "code",
   "execution_count": 21,
   "id": "d75c2285-091e-4251-b335-2db0b73710b3",
   "metadata": {},
   "outputs": [],
   "source": [
    "# // new code\n",
    "#============================================================\n",
    "# custom and helping functions\n",
    "#==========================helper functions================\n",
    "def helper(dis):\n",
    "    desc = description[description['Disease'] == dis]['Description']\n",
    "    desc = \" \".join([w for w in desc])\n",
    "\n",
    "    pre = precautions[precautions['Disease'] == dis][['Precaution_1', 'Precaution_2', 'Precaution_3', 'Precaution_4']]\n",
    "    pre = [col for col in pre.values]\n",
    "\n",
    "    med = medications[medications['Disease'] == dis]['Medication']\n",
    "    med = [med for med in med.values]\n",
    "\n",
    "    die = diets[diets['Disease'] == dis]['Diet']\n",
    "    die = [die for die in die.values]\n",
    "\n",
    "    wrkout = workout[workout['disease'] == dis]['workout']\n",
    "\n",
    "    return desc, pre, med, die, wrkout\n",
    "\n",
    "#========================symptoms dictionary================\n",
    "symptoms_dict = {\n",
    "    'itching': 0, 'skin_rash': 1, 'nodal_skin_eruptions': 2, 'continuous_sneezing': 3, 'shivering': 4, 'chills': 5,\n",
    "    'joint_pain': 6, 'stomach_pain': 7, 'acidity': 8, 'ulcers_on_tongue': 9, 'muscle_wasting': 10, 'vomiting': 11,\n",
    "    'burning_micturition': 12, 'spotting_ urination': 13, 'fatigue': 14, 'weight_gain': 15, 'anxiety': 16,\n",
    "    'cold_hands_and_feets': 17, 'mood_swings': 18, 'weight_loss': 19, 'restlessness': 20, 'lethargy': 21,\n",
    "    'patches_in_throat': 22, 'irregular_sugar_level': 23, 'cough': 24, 'high_fever': 25, 'sunken_eyes': 26,\n",
    "    'breathlessness': 27, 'sweating': 28, 'dehydration': 29, 'indigestion': 30, 'headache': 31, 'yellowish_skin': 32,\n",
    "    'dark_urine': 33, 'nausea': 34, 'loss_of_appetite': 35, 'pain_behind_the_eyes': 36, 'back_pain': 37,\n",
    "    'constipation': 38, 'abdominal_pain': 39, 'diarrhoea': 40, 'mild_fever': 41, 'yellow_urine': 42,\n",
    "    'yellowing_of_eyes': 43, 'acute_liver_failure': 44, 'fluid_overload': 45, 'swelling_of_stomach': 46,\n",
    "    'swelled_lymph_nodes': 47, 'malaise': 48, 'blurred_and_distorted_vision': 49, 'phlegm': 50, 'throat_irritation': 51,\n",
    "    'redness_of_eyes': 52, 'sinus_pressure': 53, 'runny_nose': 54, 'congestion': 55, 'chest_pain': 56,\n",
    "    'weakness_in_limbs': 57, 'fast_heart_rate': 58, 'pain_during_bowel_movements': 59, 'pain_in_anal_region': 60,\n",
    "    'bloody_stool': 61, 'irritation_in_anus': 62, 'neck_pain': 63, 'dizziness': 64, 'cramps': 65, 'bruising': 66,\n",
    "    'obesity': 67, 'swollen_legs': 68, 'swollen_blood_vessels': 69, 'puffy_face_and_eyes': 70, 'enlarged_thyroid': 71,\n",
    "    'swollen_extremeties': 72, 'excessive_hunger': 73, 'extra_marital_contacts': 74, 'drying_and_tingling_lips': 75,\n",
    "    'slurred_speech': 76, 'knee_pain': 77, 'hip_joint_pain': 78, 'muscle_weakness': 79, 'stiff_neck': 80,\n",
    "    'swelling_joints': 81, 'movement_stiffness': 82, 'spinning_movements': 83, 'loss_of_balance': 84,\n",
    "    'unsteadiness': 85, 'weakness_of_one_body_side': 86, 'loss_of_smell': 87, 'bladder_discomfort': 88,\n",
    "    'foul_smell_of_urine': 89, 'continuous_feel_of_urine': 90, 'passage_of_gases': 91, 'internal_itching': 92,\n",
    "    'toxic_look_(typhos)': 93, 'irritability': 94, 'muscle_pain': 95, 'altered_sensorium': 96,\n",
    "    'red_spots_over_body': 97, 'belly_pain': 98, 'abnormal_menstruation': 99, 'dischromic_patches': 100,\n",
    "    'watering_from_eyes': 101, 'increased_appetite': 102, 'polyuria': 103, 'family_history': 104,\n",
    "    'mucoid_sputum': 105, 'rusty_sputum': 106, 'lack_of_concentration': 107, 'visual_disturbances': 108,\n",
    "    'receiving_blood_transfusion': 109, 'receiving_unsterile_injections': 110, 'coma': 111, 'stomach_bleeding': 112,\n",
    "    'distention_of_abdomen': 113, 'history_of_alcohol_consumption': 114, 'fluid_overload.1': 115,\n",
    "    'blood_in_sputum': 116, 'prominent_veins_on_calf': 117, 'palpitations': 118, 'painful_walking': 119,\n",
    "    'pus_filled_pimples': 120, 'scurring': 121, 'skin_peeling': 122, 'inflammatory_nails': 123, 'blister': 124,\n",
    "    'red_sore_around_nose': 125\n",
    "}\n",
    "\n",
    "#=========================diseases list=====================\n",
    "diseases_list = {\n",
    "    15: 'Fungal infection', 4: 'Allergy', 16: 'GERD', 9: 'Chronic cholestasis', 14: 'Drug Reaction',\n",
    "    33: 'Peptic ulcer disease', 1: 'AIDS', 12: 'Diabetes', 17: 'Gastroenteritis', 6: 'Bronchial Asthma',\n",
    "    23: 'Hypertension', 30: 'Migraine', 7: 'Cervical spondylosis', 32: 'Paralysis (brain hemorrhage)',\n",
    "    28: 'Jaundice', 29: 'Malaria', 8: 'Chicken pox', 11: 'Dengue', 37: 'Typhoid', 40: 'Hepatitis A',\n",
    "    19: 'Hepatitis B', 20: 'Hepatitis C', 21: 'Hepatitis D', 22: 'Hepatitis E', 3: 'Alcoholic hepatitis',\n",
    "    13: 'Common Cold', 18: 'Heart attack', 39: 'Pneumonia', 36: 'Arthritis', 10: 'Tuberculosis',\n",
    "    24: 'Migraine', 31: 'Varicose veins', 34: 'Hypothyroidism', 35: 'Hyperthyroidism', 38: 'Psoriasis'\n",
    "}\n"
   ]
  },
  {
   "cell_type": "code",
   "execution_count": 22,
   "id": "a36b1e93",
   "metadata": {},
   "outputs": [
    {
     "name": "stdin",
     "output_type": "stream",
     "text": [
      "Enter your symptoms....... itching,skin_rash,nodal_skin_eruptions\n"
     ]
    },
    {
     "name": "stdout",
     "output_type": "stream",
     "text": [
      "=================predicted disease============\n",
      "GERD\n",
      "=================description==================\n",
      "GERD (Gastroesophageal Reflux Disease) is a digestive disorder that affects the lower esophageal sphincter.\n",
      "=================precautions==================\n",
      "1 :  avoid fatty spicy food\n",
      "2 :  avoid lying down after eating\n",
      "3 :  maintain healthy weight\n",
      "4 :  exercise\n",
      "=================medications==================\n",
      "5 :  ['Proton Pump Inhibitors (PPIs)', 'H2 Blockers', 'Antacids', 'Prokinetics', 'Antibiotics']\n",
      "=================workout==================\n",
      "6 :  Consume smaller meals\n",
      "7 :  Avoid trigger foods (spicy, fatty)\n",
      "8 :  Eat high-fiber foods\n",
      "9 :  Limit caffeine and alcohol\n",
      "10 :  Chew food thoroughly\n",
      "11 :  Avoid late-night eating\n",
      "12 :  Consume non-citrus fruits\n",
      "13 :  Include lean proteins\n",
      "14 :  Stay hydrated\n",
      "15 :  Avoid carbonated beverages\n",
      "=================diets==================\n",
      "16 :  ['Low-Acid Diet', 'Fiber-rich foods', 'Ginger', 'Licorice', 'Aloe vera juice']\n"
     ]
    }
   ],
   "source": [
    "# Test 1\n",
    "# Split the user's input into a list of symptoms (assuming they are comma-separated) # itching,skin_rash,nodal_skin_eruptions\n",
    "symptoms = input(\"Enter your symptoms.......\")\n",
    "user_symptoms = [s.strip() for s in symptoms.split(',')]\n",
    "# Remove any extra characters, if any\n",
    "user_symptoms = [symptom.strip(\"[]' \") for symptom in user_symptoms]\n",
    "predicted_disease = get_predicted_value(user_symptoms)\n",
    "\n",
    "desc, pre, med, die, wrkout = helper(predicted_disease)\n",
    "\n",
    "print(\"=================predicted disease============\")\n",
    "print(predicted_disease)\n",
    "print(\"=================description==================\")\n",
    "print(desc)\n",
    "print(\"=================precautions==================\")\n",
    "i = 1\n",
    "for p_i in pre[0]:\n",
    "    print(i, \": \", p_i)\n",
    "    i += 1\n",
    "\n",
    "print(\"=================medications==================\")\n",
    "for m_i in med:\n",
    "    print(i, \": \", m_i)\n",
    "    i += 1\n",
    "\n",
    "print(\"=================workout==================\")\n",
    "for w_i in wrkout:\n",
    "    print(i, \": \", w_i)\n",
    "    i += 1\n",
    "\n",
    "print(\"=================diets==================\")\n",
    "for d_i in die:\n",
    "    print(i, \": \", d_i)\n",
    "    i += 1\n"
   ]
  },
  {
   "cell_type": "code",
   "execution_count": 24,
   "id": "a8d5df35",
   "metadata": {},
   "outputs": [
    {
     "name": "stdout",
     "output_type": "stream",
     "text": [
      "1.5.1\n"
     ]
    }
   ],
   "source": [
    "# let's use pycharm flask app\n",
    "# but install this version in pycharm\n",
    "import sklearn\n",
    "print(sklearn.__version__)"
   ]
  },
  {
   "cell_type": "code",
   "execution_count": null,
   "id": "97dfb973",
   "metadata": {},
   "outputs": [],
   "source": []
  }
 ],
 "metadata": {
  "kernelspec": {
   "display_name": "Python 3 (ipykernel)",
   "language": "python",
   "name": "python3"
  },
  "language_info": {
   "codemirror_mode": {
    "name": "ipython",
    "version": 3
   },
   "file_extension": ".py",
   "mimetype": "text/x-python",
   "name": "python",
   "nbconvert_exporter": "python",
   "pygments_lexer": "ipython3",
   "version": "3.12.4"
  }
 },
 "nbformat": 4,
 "nbformat_minor": 5
}
